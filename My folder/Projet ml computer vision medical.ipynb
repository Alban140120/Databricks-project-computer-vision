{
 "cells": [
  {
   "cell_type": "markdown",
   "metadata": {
    "application/vnd.databricks.v1+cell": {
     "cellMetadata": {
      "byteLimit": 2048000,
      "rowLimit": 10000
     },
     "inputWidgets": {},
     "nuid": "54d6fd90-e0a3-4ca5-8ab7-4259ef1d5cb6",
     "showTitle": false,
     "tableResultSettingsMap": {},
     "title": ""
    }
   },
   "source": [
    "# Installation des bibliothèques"
   ]
  },
  {
   "cell_type": "code",
   "execution_count": 0,
   "metadata": {
    "application/vnd.databricks.v1+cell": {
     "cellMetadata": {
      "byteLimit": 2048000,
      "rowLimit": 10000
     },
     "inputWidgets": {},
     "nuid": "2eda9452-bc71-4283-9c9b-d54a1f8e066f",
     "showTitle": false,
     "tableResultSettingsMap": {},
     "title": ""
    }
   },
   "outputs": [],
   "source": [
    "# Installer les bibliothèques nécessaires\n",
    "%pip install requests pydicom pillow opencv-python tensorflow numpy matplotlib scikit-learn"
   ]
  },
  {
   "cell_type": "code",
   "execution_count": 0,
   "metadata": {
    "application/vnd.databricks.v1+cell": {
     "cellMetadata": {
      "byteLimit": 2048000,
      "rowLimit": 10000
     },
     "inputWidgets": {},
     "nuid": "afe94cda-925d-45a4-a0dd-28cc057615e3",
     "showTitle": false,
     "tableResultSettingsMap": {},
     "title": ""
    }
   },
   "outputs": [],
   "source": [
    "pip install --upgrade threadpoolctl"
   ]
  },
  {
   "cell_type": "markdown",
   "metadata": {
    "application/vnd.databricks.v1+cell": {
     "cellMetadata": {
      "byteLimit": 2048000,
      "rowLimit": 10000
     },
     "inputWidgets": {},
     "nuid": "02b68775-4d16-4bea-b148-7149c68d5ccd",
     "showTitle": false,
     "tableResultSettingsMap": {},
     "title": ""
    }
   },
   "source": [
    "# Importation des modules"
   ]
  },
  {
   "cell_type": "code",
   "execution_count": 0,
   "metadata": {
    "application/vnd.databricks.v1+cell": {
     "cellMetadata": {
      "byteLimit": 2048000,
      "rowLimit": 10000
     },
     "inputWidgets": {},
     "nuid": "4b026028-70e6-478c-85e9-77dcd5863b23",
     "showTitle": false,
     "tableResultSettingsMap": {},
     "title": ""
    }
   },
   "outputs": [],
   "source": [
    "import os\n",
    "import requests\n",
    "import zipfile\n",
    "import pydicom\n",
    "import matplotlib.pyplot as plt\n",
    "import numpy as np\n",
    "import cv2\n",
    "from pyspark.dbutils import DBUtils\n",
    "from pyspark.sql import SparkSession\n",
    "import tensorflow as tf\n",
    "from tensorflow.keras.applications import MobileNetV2\n",
    "from tensorflow.keras.utils import to_categorical\n",
    "from sklearn.model_selection import train_test_split\n",
    "from sklearn.decomposition import PCA\n",
    "from sklearn.cluster import KMeans"
   ]
  },
  {
   "cell_type": "markdown",
   "metadata": {
    "application/vnd.databricks.v1+cell": {
     "cellMetadata": {
      "byteLimit": 2048000,
      "rowLimit": 10000
     },
     "inputWidgets": {},
     "nuid": "4a53424c-c1e0-4491-a5ab-0c01b11fdb98",
     "showTitle": false,
     "tableResultSettingsMap": {},
     "title": ""
    }
   },
   "source": [
    "# Chargement et configuration du fichier config.py"
   ]
  },
  {
   "cell_type": "code",
   "execution_count": 0,
   "metadata": {
    "application/vnd.databricks.v1+cell": {
     "cellMetadata": {
      "byteLimit": 2048000,
      "rowLimit": 10000
     },
     "inputWidgets": {},
     "nuid": "06fd7888-2ac9-432b-b097-1660129e43c1",
     "showTitle": false,
     "tableResultSettingsMap": {},
     "title": ""
    }
   },
   "outputs": [],
   "source": [
    "config_path = \"/Workspace/Users/alban.daniel@amaris.com/Databricks-project-computer-vision/config.py\"\n",
    "\n",
    "# Vérification et création si nécessaire\n",
    "if not os.path.exists(config_path):\n",
    "    with open(config_path, \"w\") as f:\n",
    "        f.write('BASE_URL = \"https://services.cancerimagingarchive.net/services/v4/TCIA/query\"\\n')\n",
    "        f.write('COLLECTION_NAME = \"LIDC-IDRI\"\\n')\n",
    "\n",
    "# Importer config après modification\n",
    "import config\n",
    "print(f\"✅ Config chargé avec BASE_URL: {config.BASE_URL} et COLLECTION_NAME: {config.COLLECTION_NAME}\")"
   ]
  },
  {
   "cell_type": "markdown",
   "metadata": {
    "application/vnd.databricks.v1+cell": {
     "cellMetadata": {
      "byteLimit": 2048000,
      "rowLimit": 10000
     },
     "inputWidgets": {},
     "nuid": "798c8559-0910-4d43-be7a-4c98591c465f",
     "showTitle": false,
     "tableResultSettingsMap": {},
     "title": ""
    }
   },
   "source": [
    "# Initialisation de dbutils"
   ]
  },
  {
   "cell_type": "code",
   "execution_count": 0,
   "metadata": {
    "application/vnd.databricks.v1+cell": {
     "cellMetadata": {
      "byteLimit": 2048000,
      "rowLimit": 10000
     },
     "inputWidgets": {},
     "nuid": "dec2e2a2-108d-4896-ad58-7e4cfc8947eb",
     "showTitle": false,
     "tableResultSettingsMap": {},
     "title": ""
    }
   },
   "outputs": [],
   "source": [
    "try:\n",
    "    dbutils = DBUtils(spark)\n",
    "except NameError:\n",
    "    print(\"⚠ dbutils non disponible en dehors de Databricks.\")"
   ]
  },
  {
   "cell_type": "markdown",
   "metadata": {
    "application/vnd.databricks.v1+cell": {
     "cellMetadata": {
      "byteLimit": 2048000,
      "rowLimit": 10000
     },
     "inputWidgets": {},
     "nuid": "f9e485bb-b174-4870-bf4c-7997757bbde9",
     "showTitle": false,
     "tableResultSettingsMap": {},
     "title": ""
    }
   },
   "source": [
    "# Vérification des fichiers dans le projet"
   ]
  },
  {
   "cell_type": "code",
   "execution_count": 0,
   "metadata": {
    "application/vnd.databricks.v1+cell": {
     "cellMetadata": {
      "byteLimit": 2048000,
      "rowLimit": 10000
     },
     "inputWidgets": {},
     "nuid": "5c6f29eb-5ce6-4ffe-82a1-bd0f5115d379",
     "showTitle": false,
     "tableResultSettingsMap": {},
     "title": ""
    }
   },
   "outputs": [],
   "source": [
    "print([f.name for f in dbutils.fs.ls(\"file:/Workspace/Users/alban.daniel@amaris.com/Databricks-project-computer-vision\")])"
   ]
  },
  {
   "cell_type": "markdown",
   "metadata": {
    "application/vnd.databricks.v1+cell": {
     "cellMetadata": {
      "byteLimit": 2048000,
      "rowLimit": 10000
     },
     "inputWidgets": {},
     "nuid": "74d10be6-d115-42d4-8354-ae15c4143b86",
     "showTitle": false,
     "tableResultSettingsMap": {},
     "title": ""
    }
   },
   "source": [
    "# Récupération des patients"
   ]
  },
  {
   "cell_type": "code",
   "execution_count": 0,
   "metadata": {
    "application/vnd.databricks.v1+cell": {
     "cellMetadata": {
      "byteLimit": 2048000,
      "rowLimit": 10000
     },
     "inputWidgets": {},
     "nuid": "fc374d58-c747-4531-94fb-cb07b710cbc2",
     "showTitle": false,
     "tableResultSettingsMap": {},
     "title": ""
    }
   },
   "outputs": [],
   "source": [
    "patients_url = f\"{config.BASE_URL}/getPatient\"\n",
    "params = {\"Collection\": config.COLLECTION_NAME}\n",
    "response = requests.get(patients_url, params=params)\n",
    "\n",
    "if response.status_code == 200:\n",
    "    patients = response.json()\n",
    "    print(f\"Nombre total de patients : {len(patients)}\")\n",
    "    print(\"Quelques patients :\", display(patients[:5]))\n",
    "else:\n",
    "    print(\"❌ Erreur lors de la récupération des patients :\", response.text)"
   ]
  },
  {
   "cell_type": "markdown",
   "metadata": {
    "application/vnd.databricks.v1+cell": {
     "cellMetadata": {
      "byteLimit": 2048000,
      "rowLimit": 10000
     },
     "inputWidgets": {},
     "nuid": "9975f8a6-4b83-45c0-b100-53bc24090e80",
     "showTitle": false,
     "tableResultSettingsMap": {},
     "title": ""
    }
   },
   "source": [
    "# Récupération des séries d'un patient"
   ]
  },
  {
   "cell_type": "code",
   "execution_count": 0,
   "metadata": {
    "application/vnd.databricks.v1+cell": {
     "cellMetadata": {
      "byteLimit": 2048000,
      "rowLimit": 10000
     },
     "inputWidgets": {},
     "nuid": "ceafe592-90e5-429b-a885-97f6041d9481",
     "showTitle": false,
     "tableResultSettingsMap": {},
     "title": ""
    }
   },
   "outputs": [],
   "source": [
    "series_url = f\"{config.BASE_URL}/getSeries\"\n",
    "params = {\"PatientID\": \"LIDC-IDRI-0001\"}  # Modifier l'ID si besoin\n",
    "response = requests.get(series_url, params=params)\n",
    "\n",
    "if response.status_code == 200:\n",
    "    series = response.json()\n",
    "    print(f\"Nombre de séries pour LIDC-IDRI-0001 : {len(series)}\")\n",
    "    print(\"Aperçu des séries :\", display(series[:5]))\n",
    "else:\n",
    "    print(\"❌ Erreur lors de la récupération des séries :\", response.text)"
   ]
  },
  {
   "cell_type": "markdown",
   "metadata": {
    "application/vnd.databricks.v1+cell": {
     "cellMetadata": {
      "byteLimit": 2048000,
      "rowLimit": 10000
     },
     "inputWidgets": {},
     "nuid": "440e8114-4576-4764-af9d-8158b33e0728",
     "showTitle": false,
     "tableResultSettingsMap": {},
     "title": ""
    }
   },
   "source": [
    "# Téléchargement des images DICOM"
   ]
  },
  {
   "cell_type": "code",
   "execution_count": 0,
   "metadata": {
    "application/vnd.databricks.v1+cell": {
     "cellMetadata": {
      "byteLimit": 2048000,
      "rowLimit": 10000
     },
     "inputWidgets": {},
     "nuid": "f092678a-29f9-4cbb-bdc1-ebb8376914b3",
     "showTitle": false,
     "tableResultSettingsMap": {},
     "title": ""
    }
   },
   "outputs": [],
   "source": [
    "image_url = f\"{config.BASE_URL}/getImage\"\n",
    "params = {\"SeriesInstanceUID\": \"1.3.6.1.4.1.14519.5.2.1.6279.6001.179049373636438705059720603192\"}\n",
    "\n",
    "response = requests.get(image_url, params=params, stream=True)\n",
    "\n",
    "if response.status_code == 200:\n",
    "    with open(\"test_dicom.zip\", \"wb\") as f:\n",
    "        for chunk in response.iter_content(chunk_size=8192):\n",
    "            f.write(chunk)\n",
    "    print(\"✅ Téléchargement réussi : test_dicom.zip\")\n",
    "else:\n",
    "    print(\"❌ Erreur lors du téléchargement :\", response.text)"
   ]
  },
  {
   "cell_type": "markdown",
   "metadata": {
    "application/vnd.databricks.v1+cell": {
     "cellMetadata": {
      "byteLimit": 2048000,
      "rowLimit": 10000
     },
     "inputWidgets": {},
     "nuid": "a212de35-308c-4417-960e-dc976e7aa8db",
     "showTitle": false,
     "tableResultSettingsMap": {},
     "title": ""
    }
   },
   "source": [
    "# Décompression et affichage d'une image DICOM"
   ]
  },
  {
   "cell_type": "code",
   "execution_count": 0,
   "metadata": {
    "application/vnd.databricks.v1+cell": {
     "cellMetadata": {
      "byteLimit": 2048000,
      "rowLimit": 10000
     },
     "inputWidgets": {},
     "nuid": "36da638f-8501-4248-b92d-1c98b82d9e2c",
     "showTitle": false,
     "tableResultSettingsMap": {},
     "title": ""
    }
   },
   "outputs": [],
   "source": [
    "with zipfile.ZipFile(\"test_dicom.zip\", \"r\") as zip_ref:\n",
    "    zip_ref.extractall(\"dicom_images\")\n",
    "\n",
    "dicom_files = [f for f in os.listdir(\"dicom_images\") if f.endswith(\".dcm\")]\n",
    "print(f\"📂 Nombre de fichiers DICOM extraits : {len(dicom_files)}\")\n",
    "\n",
    "if dicom_files:\n",
    "    dicom_path = os.path.join(\"dicom_images\", dicom_files[0])\n",
    "    dicom_data = pydicom.dcmread(dicom_path)\n",
    "\n",
    "    plt.imshow(dicom_data.pixel_array, cmap=\"gray\")\n",
    "    plt.title(f\"Image DICOM : {dicom_files[0]}\")\n",
    "    plt.axis(\"off\")\n",
    "    plt.show()\n",
    "\n",
    "    print(dicom_data)  # Affichage des métadonnées\n",
    "else:\n",
    "    print(\"❌ Aucun fichier DICOM trouvé !\")"
   ]
  },
  {
   "cell_type": "markdown",
   "metadata": {
    "application/vnd.databricks.v1+cell": {
     "cellMetadata": {
      "byteLimit": 2048000,
      "rowLimit": 10000
     },
     "inputWidgets": {},
     "nuid": "c22df605-2f65-432f-beb5-eebfbd2ccbb2",
     "showTitle": false,
     "tableResultSettingsMap": {},
     "title": ""
    }
   },
   "source": [
    "# Détection d'anomalies dans les images DICOM"
   ]
  },
  {
   "cell_type": "code",
   "execution_count": 0,
   "metadata": {
    "application/vnd.databricks.v1+cell": {
     "cellMetadata": {
      "byteLimit": 2048000,
      "rowLimit": 10000
     },
     "inputWidgets": {},
     "nuid": "cbc76207-d17f-49f0-bafc-3de683e9e941",
     "showTitle": false,
     "tableResultSettingsMap": {},
     "title": ""
    }
   },
   "outputs": [],
   "source": [
    "dicom_dir = \"dicom_images\"\n",
    "dicom_files = [f for f in os.listdir(dicom_dir) if f.endswith(\".dcm\")]\n",
    "anomalies = []\n",
    "\n",
    "for file in dicom_files:\n",
    "    try:\n",
    "        dicom_path = os.path.join(dicom_dir, file)\n",
    "        dicom_data = pydicom.dcmread(dicom_path)\n",
    "        pixel_array = dicom_data.pixel_array\n",
    "\n",
    "        height, width = pixel_array.shape\n",
    "        anomaly_msg = None\n",
    "\n",
    "        if height < 64 or width < 64:\n",
    "            anomaly_msg = \"Image trop petite\"\n",
    "        else:\n",
    "            mean_pixel = np.mean(pixel_array)\n",
    "            if mean_pixel < 5:\n",
    "                anomaly_msg = \"Image quasi noire\"\n",
    "            elif mean_pixel > 250:\n",
    "                anomaly_msg = \"Image quasi blanche\"\n",
    "\n",
    "            required_fields = [\"Modality\", \"BodyPartExamined\"]\n",
    "            for field in required_fields:\n",
    "                if not hasattr(dicom_data, field) or getattr(dicom_data, field) == \"\":\n",
    "                    anomaly_msg = f\"Métadonnée manquante: {field}\"\n",
    "\n",
    "        if anomaly_msg:\n",
    "            anomalies.append((file, anomaly_msg, pixel_array))\n",
    "\n",
    "    except Exception as e:\n",
    "        anomalies.append((file, f\"Erreur de lecture DICOM: {str(e)}\", None))\n",
    "\n",
    "# 🔹 Affichage des anomalies détectées\n",
    "if anomalies:\n",
    "    print(f\"⚠️ {len(anomalies)} anomalies détectées.\")\n",
    "    \n",
    "    num_display = min(5, len(anomalies))  # Limiter l'affichage à 5 images max\n",
    "    fig, axes = plt.subplots(1, num_display, figsize=(15, 5))\n",
    "\n",
    "    for i, (file, msg, img) in enumerate(anomalies[:num_display]):\n",
    "        if img is not None:\n",
    "            axes[i].imshow(img, cmap=\"gray\")\n",
    "        axes[i].set_title(f\"{file}\\n{msg}\", fontsize=8)\n",
    "        axes[i].axis(\"off\")\n",
    "\n",
    "    plt.tight_layout()\n",
    "    plt.show()\n",
    "else:\n",
    "    print(\"✅ Aucune anomalie détectée !\")"
   ]
  },
  {
   "cell_type": "markdown",
   "metadata": {
    "application/vnd.databricks.v1+cell": {
     "cellMetadata": {
      "byteLimit": 2048000,
      "rowLimit": 10000
     },
     "inputWidgets": {},
     "nuid": "42992278-00e5-48bd-9e19-addbbd217e7b",
     "showTitle": false,
     "tableResultSettingsMap": {},
     "title": ""
    }
   },
   "source": [
    "# Clustering des images DICOM avec une ACP"
   ]
  },
  {
   "cell_type": "code",
   "execution_count": 0,
   "metadata": {
    "application/vnd.databricks.v1+cell": {
     "cellMetadata": {
      "byteLimit": 2048000,
      "rowLimit": 10000
     },
     "inputWidgets": {},
     "nuid": "025bf165-d73a-44a1-baec-1b89d5eacee6",
     "showTitle": false,
     "tableResultSettingsMap": {},
     "title": ""
    }
   },
   "outputs": [],
   "source": [
    "# 📂 Charger les images DICOM\n",
    "def load_dicom_images(folder, img_size=(128, 128)):\n",
    "    images = []\n",
    "    \n",
    "    for file in os.listdir(folder):\n",
    "        if file.endswith(\".dcm\"):\n",
    "            filepath = os.path.join(folder, file)\n",
    "            dicom_data = pydicom.dcmread(filepath)\n",
    "            img = dicom_data.pixel_array.astype(np.float32)\n",
    "            img = cv2.resize(img, img_size)\n",
    "\n",
    "            if np.max(img) > 0:\n",
    "                img /= np.max(img)\n",
    "\n",
    "            images.append(img.flatten())  \n",
    "\n",
    "    return np.array(images)\n",
    "\n",
    "# 📂 Dossier contenant les images DICOM\n",
    "folder_path = \"./dicom_images\"\n",
    "image_data = load_dicom_images(folder_path)\n",
    "\n",
    "# 🎯 Appliquer l'ACP\n",
    "pca = PCA()\n",
    "pca.fit(image_data)\n",
    "\n",
    "# 📊 Variance expliquée par les 20 premières composantes\n",
    "explained_variance = pca.explained_variance_ratio_[:20]  # Garder les 20 premières\n",
    "cumulative_variance = np.cumsum(explained_variance)  # Variance cumulée\n",
    "\n",
    "# 🎨 Créer la figure\n",
    "plt.figure(figsize=(12, 5))\n",
    "\n",
    "# 🔹 Graphique 1 : Variance expliquée\n",
    "plt.subplot(1, 2, 1)\n",
    "plt.bar(range(1, 21), explained_variance * 100, color=\"skyblue\")\n",
    "plt.xlabel(\"Dimensions\")\n",
    "plt.ylabel(\"Variance expliquée (%)\")\n",
    "plt.title(\"Variance expliquée\")\n",
    "plt.xticks(range(1, 21))\n",
    "plt.grid(axis=\"y\", linestyle=\"--\", alpha=0.7)\n",
    "\n",
    "# 🔹 Graphique 2 : Variance cumulée\n",
    "plt.subplot(1, 2, 2)\n",
    "plt.bar(range(1, 21), cumulative_variance * 100, color=\"lightcoral\")\n",
    "plt.xlabel(\"Dimensions\")\n",
    "plt.ylabel(\"Variance cumulée (%)\")\n",
    "plt.title(\"Variance expliquée cumulée\")\n",
    "plt.xticks(range(1, 21))\n",
    "plt.ylim(0, 100)\n",
    "plt.grid(axis=\"y\", linestyle=\"--\", alpha=0.7)\n",
    "\n",
    "# 📊 Afficher les graphiques\n",
    "plt.tight_layout()\n",
    "plt.show()"
   ]
  },
  {
   "cell_type": "code",
   "execution_count": 0,
   "metadata": {
    "application/vnd.databricks.v1+cell": {
     "cellMetadata": {
      "byteLimit": 2048000,
      "rowLimit": 10000
     },
     "inputWidgets": {},
     "nuid": "c514fdb4-8a24-4cd8-93f7-19f4ac99a622",
     "showTitle": false,
     "tableResultSettingsMap": {},
     "title": ""
    }
   },
   "outputs": [],
   "source": [
    "# 🏆 Appliquer l'ACP avec 2 composantes principales\n",
    "pca = PCA(n_components=2)\n",
    "image_pca = pca.fit_transform(image_data)\n",
    "\n",
    "# 🤖 Appliquer le clustering K-Means\n",
    "kmeans = KMeans(n_clusters=2, random_state=42, n_init=10)\n",
    "clusters = kmeans.fit_predict(image_pca)\n",
    "\n",
    "# 🎨 Visualisation des clusters\n",
    "plt.figure(figsize=(8, 6))\n",
    "plt.scatter(image_pca[:, 0], image_pca[:, 1], c=clusters, cmap=\"viridis\", alpha=0.7)\n",
    "plt.colorbar(label=\"Cluster\")\n",
    "plt.xlabel(\"Dim 1\")\n",
    "plt.ylabel(\"Dim 2\")\n",
    "plt.title(\"Clustering des images DICOM\")\n",
    "plt.grid(True)\n",
    "plt.show()"
   ]
  }
 ],
 "metadata": {
  "application/vnd.databricks.v1+notebook": {
   "computePreferences": null,
   "dashboards": [],
   "environmentMetadata": {
    "base_environment": "",
    "environment_version": "2"
   },
   "language": "python",
   "notebookMetadata": {
    "pythonIndentUnit": 4
   },
   "notebookName": "Projet ml computer vision medical",
   "widgets": {}
  },
  "language_info": {
   "name": "python"
  }
 },
 "nbformat": 4,
 "nbformat_minor": 0
}
