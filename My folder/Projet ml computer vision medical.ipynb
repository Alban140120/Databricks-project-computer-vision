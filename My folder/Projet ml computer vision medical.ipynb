{
 "cells": [
  {
   "cell_type": "code",
   "execution_count": 0,
   "metadata": {
    "application/vnd.databricks.v1+cell": {
     "cellMetadata": {
      "byteLimit": 2048000,
      "rowLimit": 10000
     },
     "inputWidgets": {},
     "nuid": "2eda9452-bc71-4283-9c9b-d54a1f8e066f",
     "showTitle": false,
     "tableResultSettingsMap": {},
     "title": ""
    }
   },
   "outputs": [],
   "source": [
    "# Installer les bibliothèques nécessaires\n",
    "# %pip install requests pydicom pillow"
   ]
  },
  {
   "cell_type": "code",
   "execution_count": 0,
   "metadata": {
    "application/vnd.databricks.v1+cell": {
     "cellMetadata": {
      "byteLimit": 2048000,
      "rowLimit": 10000
     },
     "inputWidgets": {},
     "nuid": "f53fb7cf-c70d-42a7-a9ee-ceb630564835",
     "showTitle": false,
     "tableResultSettingsMap": {},
     "title": ""
    }
   },
   "outputs": [],
   "source": [
    "# !pip install opencv-python"
   ]
  },
  {
   "cell_type": "code",
   "execution_count": 0,
   "metadata": {
    "application/vnd.databricks.v1+cell": {
     "cellMetadata": {
      "byteLimit": 2048000,
      "rowLimit": 10000
     },
     "inputWidgets": {},
     "nuid": "4b026028-70e6-478c-85e9-77dcd5863b23",
     "showTitle": false,
     "tableResultSettingsMap": {},
     "title": ""
    }
   },
   "outputs": [],
   "source": [
    "import os\n",
    "import requests\n",
    "import zipfile\n",
    "import shutil\n",
    "import io\n",
    "from pyspark.dbutils import DBUtils\n",
    "import sys\n",
    "import pydicom\n",
    "import matplotlib.pyplot as plt\n",
    "import config\n",
    "import importlib\n",
    "import numpy as np\n",
    "from pyspark.sql import SparkSession\n",
    "import tensorflow as tf\n",
    "import cv2\n",
    "from tensorflow.keras.models import Sequential\n",
    "from tensorflow.keras.layers import Conv2D, MaxPooling2D, Flatten, Dense\n",
    "from tensorflow.keras.utils import to_categorical\n",
    "from sklearn.model_selection import train_test_split\n",
    "from tensorflow.keras.applications import MobileNetV2\n",
    "from tensorflow.keras.models import Model\n",
    "from tensorflow.keras.layers import Dense, Flatten, Dropout"
   ]
  },
  {
   "cell_type": "code",
   "execution_count": 0,
   "metadata": {
    "application/vnd.databricks.v1+cell": {
     "cellMetadata": {
      "byteLimit": 2048000,
      "rowLimit": 10000
     },
     "inputWidgets": {},
     "nuid": "06fd7888-2ac9-432b-b097-1660129e43c1",
     "showTitle": false,
     "tableResultSettingsMap": {},
     "title": ""
    }
   },
   "outputs": [],
   "source": [
    "# Ajoute le chemin où se trouve config.py\n",
    "sys.path.append(\"/Workspace/Users/alban.daniel@amaris.com/\")\n",
    "\n",
    "# Vérifie si config.py existe avant de l'importer\n",
    "config_path = \"/Workspace/Users/alban.daniel@amaris.com/config.py\"\n",
    "\n",
    "if not os.path.exists(config_path):\n",
    "    with open(config_path, \"w\") as f:\n",
    "        f.write('BASE_URL = \"https://services.cancerimagingarchive.net/services/v4/TCIA/query\"\\n')\n",
    "        f.write('COLLECTION_NAME = \"LIDC-IDRI\"\\n')\n",
    "\n",
    "import config  # Maintenant, ça fonctionnera toujours !\n",
    "\n",
    "# Vérification rapide\n",
    "print(f\"✅ Config chargé avec BASE_URL: {config.BASE_URL}\")"
   ]
  },
  {
   "cell_type": "code",
   "execution_count": 0,
   "metadata": {
    "application/vnd.databricks.v1+cell": {
     "cellMetadata": {
      "byteLimit": 2048000,
      "rowLimit": 10000
     },
     "inputWidgets": {},
     "nuid": "dec2e2a2-108d-4896-ad58-7e4cfc8947eb",
     "showTitle": false,
     "tableResultSettingsMap": {},
     "title": ""
    }
   },
   "outputs": [],
   "source": [
    "# 📌 Initialisation de dbutils (nécessaire en dehors d'un notebook Databricks)\n",
    "try:\n",
    "    dbutils = DBUtils(spark)\n",
    "except NameError:\n",
    "    print(\"⚠ dbutils non disponible en dehors de Databricks.\")"
   ]
  },
  {
   "cell_type": "code",
   "execution_count": 0,
   "metadata": {
    "application/vnd.databricks.v1+cell": {
     "cellMetadata": {
      "byteLimit": 2048000,
      "rowLimit": 10000
     },
     "inputWidgets": {},
     "nuid": "5c6f29eb-5ce6-4ffe-82a1-bd0f5115d379",
     "showTitle": false,
     "tableResultSettingsMap": {},
     "title": ""
    }
   },
   "outputs": [],
   "source": [
    "display(dbutils.fs.ls(\"file:/Workspace/Users/alban.daniel@amaris.com/\"))"
   ]
  },
  {
   "cell_type": "code",
   "execution_count": 0,
   "metadata": {
    "application/vnd.databricks.v1+cell": {
     "cellMetadata": {
      "byteLimit": 2048000,
      "rowLimit": 10000
     },
     "inputWidgets": {},
     "nuid": "63986592-eb03-400c-856b-e747c6c57b27",
     "showTitle": false,
     "tableResultSettingsMap": {},
     "title": ""
    }
   },
   "outputs": [],
   "source": [
    "config_path = \"/Workspace/Users/alban.daniel@amaris.com/config.py\"\n",
    "\n",
    "# 🔍 Lire le contenu existant\n",
    "with open(config_path, \"r\") as f:\n",
    "    config_content = f.read()\n",
    "\n",
    "# ✍ Ajouter COLLECTION_NAME si elle est absente\n",
    "if \"COLLECTION_NAME\" not in config_content:\n",
    "    with open(config_path, \"a\") as f:  # \"a\" = append (ajout)\n",
    "        f.write('\\nCOLLECTION_NAME = \"LIDC-IDRI\"\\n')\n",
    "\n",
    "print(\"✅ COLLECTION_NAME ajouté à config.py !\")"
   ]
  },
  {
   "cell_type": "code",
   "execution_count": 0,
   "metadata": {
    "application/vnd.databricks.v1+cell": {
     "cellMetadata": {
      "byteLimit": 2048000,
      "rowLimit": 10000
     },
     "inputWidgets": {},
     "nuid": "ceafe592-90e5-429b-a885-97f6041d9481",
     "showTitle": false,
     "tableResultSettingsMap": {},
     "title": ""
    }
   },
   "outputs": [],
   "source": [
    "importlib.reload(config)  # ✅ Recharge le module pour être sûr\n",
    "\n",
    "# Vérification\n",
    "print(f\"✅ BASE_URL: {config.BASE_URL}\")\n",
    "print(f\"✅ COLLECTION_NAME: {config.COLLECTION_NAME}\")  # Doit s'afficher maintenant !"
   ]
  },
  {
   "cell_type": "code",
   "execution_count": 0,
   "metadata": {
    "application/vnd.databricks.v1+cell": {
     "cellMetadata": {
      "byteLimit": 2048000,
      "rowLimit": 10000
     },
     "inputWidgets": {},
     "nuid": "f092678a-29f9-4cbb-bdc1-ebb8376914b3",
     "showTitle": false,
     "tableResultSettingsMap": {},
     "title": ""
    }
   },
   "outputs": [],
   "source": [
    "# URL de l'API pour récupérer les patients\n",
    "patients_url = f\"{config.BASE_URL}/getPatient\"\n",
    "\n",
    "# Paramètres de la requête\n",
    "params = {\"Collection\": config.COLLECTION_NAME}\n",
    "\n",
    "# Envoi de la requête\n",
    "response = requests.get(patients_url, params=params)\n",
    "\n",
    "# Vérification et affichage des patients\n",
    "if response.status_code == 200:\n",
    "    patients = response.json()\n",
    "    print(f\"Nombre total de patients : {len(patients)}\")\n",
    "    print(\"Quelques patients :\", display(patients[:5]))  # Afficher les 5 premiers\n",
    "else:\n",
    "    print(\"❌ Erreur lors de la récupération des patients :\", response.text)"
   ]
  },
  {
   "cell_type": "code",
   "execution_count": 0,
   "metadata": {
    "application/vnd.databricks.v1+cell": {
     "cellMetadata": {
      "byteLimit": 2048000,
      "rowLimit": 10000
     },
     "inputWidgets": {},
     "nuid": "4273328d-b1a8-40e2-a08c-ef203390cd3d",
     "showTitle": false,
     "tableResultSettingsMap": {},
     "title": ""
    }
   },
   "outputs": [],
   "source": [
    "series_url = f\"{config.BASE_URL}/getSeries\"\n",
    "params = {\"PatientID\": \"LIDC-IDRI-0001\"}  # Remplace par d'autres si besoin\n",
    "\n",
    "response = requests.get(series_url, params=params)\n",
    "\n",
    "if response.status_code == 200:\n",
    "    series = response.json()\n",
    "    print(f\"Nombre de séries pour LIDC-IDRI-0001 : {len(series)}\")\n",
    "    print(\"Aperçu des séries :\", display(series[:5]))  # Affiche les 5 premières\n",
    "else:\n",
    "    print(\"❌ Erreur lors de la récupération des séries :\", response.text)"
   ]
  },
  {
   "cell_type": "code",
   "execution_count": 0,
   "metadata": {
    "application/vnd.databricks.v1+cell": {
     "cellMetadata": {
      "byteLimit": 2048000,
      "rowLimit": 10000
     },
     "inputWidgets": {},
     "nuid": "36da638f-8501-4248-b92d-1c98b82d9e2c",
     "showTitle": false,
     "tableResultSettingsMap": {},
     "title": ""
    }
   },
   "outputs": [],
   "source": [
    "# URL pour récupérer les images d'une série\n",
    "image_url = f\"{config.BASE_URL}/getImage\"\n",
    "params = {\"SeriesInstanceUID\": \"1.3.6.1.4.1.14519.5.2.1.6279.6001.179049373636438705059720603192\"}  # Série CT\n",
    "\n",
    "# Envoi de la requête\n",
    "response = requests.get(image_url, params=params, stream=True)\n",
    "\n",
    "# Vérification et téléchargement\n",
    "if response.status_code == 200:\n",
    "    with open(\"test_dicom.zip\", \"wb\") as f:\n",
    "        for chunk in response.iter_content(chunk_size=8192):\n",
    "            f.write(chunk)\n",
    "    print(\"✅ Téléchargement réussi : test_dicom.zip\")\n",
    "else:\n",
    "    print(\"❌ Erreur lors du téléchargement :\", response.text)"
   ]
  },
  {
   "cell_type": "code",
   "execution_count": 0,
   "metadata": {
    "application/vnd.databricks.v1+cell": {
     "cellMetadata": {
      "byteLimit": 2048000,
      "rowLimit": 10000
     },
     "inputWidgets": {},
     "nuid": "cbc76207-d17f-49f0-bafc-3de683e9e941",
     "showTitle": false,
     "tableResultSettingsMap": {},
     "title": ""
    }
   },
   "outputs": [],
   "source": [
    "# 📌 Étape 1 : Décompression\n",
    "with zipfile.ZipFile(\"test_dicom.zip\", \"r\") as zip_ref:\n",
    "    zip_ref.extractall(\"dicom_images\")  # Décompresser dans un dossier\n",
    "\n",
    "# 📌 Étape 2 : Lister les fichiers extraits\n",
    "dicom_files = [f for f in os.listdir(\"dicom_images\") if f.endswith(\".dcm\")]\n",
    "print(f\"📂 Nombre de fichiers DICOM extraits : {len(dicom_files)}\")\n",
    "\n",
    "# 📌 Étape 3 : Charger et afficher une image DICOM\n",
    "if dicom_files:\n",
    "    dicom_path = os.path.join(\"dicom_images\", dicom_files[0])\n",
    "    dicom_data = pydicom.dcmread(dicom_path)\n",
    "\n",
    "    # Affichage de l'image\n",
    "    plt.imshow(dicom_data.pixel_array, cmap=\"gray\")\n",
    "    plt.title(f\"Image DICOM : {dicom_files[0]}\")\n",
    "    plt.axis(\"off\")\n",
    "    plt.show()\n",
    "else:\n",
    "    print(\"❌ Aucun fichier DICOM trouvé !\")"
   ]
  },
  {
   "cell_type": "code",
   "execution_count": 0,
   "metadata": {
    "application/vnd.databricks.v1+cell": {
     "cellMetadata": {
      "byteLimit": 2048000,
      "rowLimit": 10000
     },
     "inputWidgets": {},
     "nuid": "d237927e-0f15-47d0-9155-0fdb6fcf9db4",
     "showTitle": false,
     "tableResultSettingsMap": {},
     "title": ""
    }
   },
   "outputs": [],
   "source": [
    "print(dicom_data)  # Affiche toutes les métadonnées de l’image"
   ]
  },
  {
   "cell_type": "code",
   "execution_count": 0,
   "metadata": {
    "application/vnd.databricks.v1+cell": {
     "cellMetadata": {
      "byteLimit": 2048000,
      "rowLimit": 10000
     },
     "inputWidgets": {},
     "nuid": "c514fdb4-8a24-4cd8-93f7-19f4ac99a622",
     "showTitle": false,
     "tableResultSettingsMap": {},
     "title": ""
    }
   },
   "outputs": [],
   "source": [
    "# 📂 Répertoire où sont stockées les images DICOM\n",
    "dicom_dir = \"dicom_images\"\n",
    "dicom_files = [f for f in os.listdir(dicom_dir) if f.endswith(\".dcm\")]\n",
    "\n",
    "# 🔍 Stocker les anomalies détectées\n",
    "anomalies = []\n",
    "\n",
    "for file in dicom_files:\n",
    "    try:\n",
    "        dicom_path = os.path.join(dicom_dir, file)\n",
    "        dicom_data = pydicom.dcmread(dicom_path)\n",
    "        pixel_array = dicom_data.pixel_array  # Convertir l’image en array\n",
    "\n",
    "        # 📏 Vérifier la taille de l'image\n",
    "        height, width = pixel_array.shape\n",
    "        if height < 64 or width < 64:\n",
    "            anomalies.append((file, \"Image trop petite\"))\n",
    "\n",
    "        # 🎨 Vérifier les valeurs des pixels\n",
    "        mean_pixel = np.mean(pixel_array)\n",
    "        if mean_pixel < 5:  # Image très sombre\n",
    "            anomalies.append((file, \"Image quasi noire\"))\n",
    "        elif mean_pixel > 250:  # Image très claire\n",
    "            anomalies.append((file, \"Image quasi blanche\"))\n",
    "\n",
    "        # 🔍 Vérifier si des métadonnées clés sont manquantes\n",
    "        required_fields = [\"Modality\", \"BodyPartExamined\"]\n",
    "        for field in required_fields:\n",
    "            if not hasattr(dicom_data, field) or getattr(dicom_data, field) == \"\":\n",
    "                anomalies.append((file, f\"Métadonnée manquante: {field}\"))\n",
    "\n",
    "    except Exception as e:\n",
    "        anomalies.append((file, f\"Erreur de lecture DICOM: {str(e)}\"))\n",
    "\n",
    "# 📢 Affichage des anomalies\n",
    "if anomalies:\n",
    "    print(\"⚠️ Anomalies détectées :\")\n",
    "    for anomaly in anomalies[:10]:  # Afficher les 10 premières\n",
    "        print(f\"📌 {anomaly[0]} ➝ {anomaly[1]}\")\n",
    "else:\n",
    "    print(\"✅ Aucune anomalie détectée !\")\n",
    "\n",
    "# 📸 Affichage d'images suspectes\n",
    "if anomalies:\n",
    "    fig, axs = plt.subplots(1, min(5, len(anomalies)), figsize=(15, 5))\n",
    "    for i, (file, issue) in enumerate(anomalies[:5]):\n",
    "        dicom_path = os.path.join(dicom_dir, file)\n",
    "        dicom_data = pydicom.dcmread(dicom_path)\n",
    "        axs[i].imshow(dicom_data.pixel_array, cmap=\"gray\")\n",
    "        axs[i].set_title(issue)\n",
    "        axs[i].axis(\"off\")\n",
    "    plt.show()"
   ]
  },
  {
   "cell_type": "code",
   "execution_count": 0,
   "metadata": {
    "application/vnd.databricks.v1+cell": {
     "cellMetadata": {
      "byteLimit": 2048000,
      "rowLimit": 10000
     },
     "inputWidgets": {},
     "nuid": "e04a686d-2b04-46b4-87f4-8f7b9fc46e41",
     "showTitle": false,
     "tableResultSettingsMap": {},
     "title": ""
    }
   },
   "outputs": [],
   "source": [
    "dbutils.fs.mkdirs(\"dbfs:/mnt/dicom_data\")  # Crée le dossier si nécessaire\n",
    "\n",
    "local_dicom_path = \"dicom_images\"\n",
    "dbfs_dicom_path = \"dbfs:/mnt/dicom_data\"\n",
    "\n",
    "copied_files = 0\n",
    "\n",
    "for file in os.listdir(local_dicom_path):\n",
    "    if file.endswith(\".dcm\"):\n",
    "        local_file_path = f\"file:{os.path.abspath(os.path.join(local_dicom_path, file))}\"\n",
    "        dbfs_file_path = f\"{dbfs_dicom_path}/{file}\"\n",
    "\n",
    "        try:\n",
    "            dbutils.fs.cp(local_file_path, dbfs_file_path)\n",
    "            copied_files += 1\n",
    "        except Exception as e:\n",
    "            print(f\"❌ Erreur lors de la copie de {file} : {e}\")\n",
    "\n",
    "print(f\"✅ {copied_files} fichiers copiés vers {dbfs_dicom_path}\")\n",
    "\n",
    "# Vérifier si les fichiers sont bien copiés\n",
    "display(dbutils.fs.ls(dbfs_dicom_path))"
   ]
  },
  {
   "cell_type": "code",
   "execution_count": 0,
   "metadata": {
    "application/vnd.databricks.v1+cell": {
     "cellMetadata": {
      "byteLimit": 2048000,
      "rowLimit": 10000
     },
     "inputWidgets": {},
     "nuid": "51ba9149-5bad-465a-9e06-b1de096a152d",
     "showTitle": false,
     "tableResultSettingsMap": {},
     "title": ""
    }
   },
   "outputs": [],
   "source": [
    "# %pip install tensorflow"
   ]
  },
  {
   "cell_type": "code",
   "execution_count": 0,
   "metadata": {
    "application/vnd.databricks.v1+cell": {
     "cellMetadata": {
      "byteLimit": 2048000,
      "rowLimit": 10000
     },
     "inputWidgets": {},
     "nuid": "ecbed695-92c7-4b14-940c-d7ccce422aa4",
     "showTitle": false,
     "tableResultSettingsMap": {},
     "title": ""
    }
   },
   "outputs": [],
   "source": [
    "# Taille des images optimisée pour CPU\n",
    "IMG_SIZE = 64  \n",
    "EPOCHS = 3  \n",
    "\n",
    "# Chemin vers DBFS\n",
    "DBFS_PATH = \"dbfs:/mnt/dicom_data/\"\n",
    "\n",
    "def load_dicom_images(dbfs_path):\n",
    "    images = []\n",
    "    labels = []  # À adapter selon tes classes\n",
    "\n",
    "    # Utilisation de dbutils.fs.ls() pour lister les fichiers\n",
    "    file_list = [f.path for f in dbutils.fs.ls(dbfs_path) if f.path.endswith(\".dcm\")]\n",
    "\n",
    "    for file_path in file_list:\n",
    "        try:\n",
    "            # Convertir le chemin DBFS en chemin accessible pour Python\n",
    "            local_path = \"/dbfs\" + file_path[5:]  # Remplace \"dbfs:/\" par \"/dbfs\"\n",
    "            \n",
    "            dicom_data = pydicom.dcmread(local_path)\n",
    "            pixel_array = dicom_data.pixel_array\n",
    "\n",
    "            # Normalisation et redimensionnement\n",
    "            img_resized = cv2.resize(pixel_array, (IMG_SIZE, IMG_SIZE))\n",
    "            img_normalized = img_resized / 255.0\n",
    "\n",
    "            images.append(img_normalized)\n",
    "            labels.append(0)  # ⚠️ Remplace \"0\" par la vraie classe de l'image\n",
    "\n",
    "        except Exception as e:\n",
    "            print(f\"❌ Erreur sur {file_path}: {e}\")\n",
    "\n",
    "    images = np.array(images).reshape(-1, IMG_SIZE, IMG_SIZE, 1)  # Format CNN\n",
    "    labels = np.array(labels)\n",
    "    \n",
    "    return images, labels\n",
    "\n",
    "# Chargement des données\n",
    "X, y = load_dicom_images(DBFS_PATH)\n",
    "\n",
    "# Conversion des labels en one-hot encoding\n",
    "NUM_CLASSES = len(np.unique(y))\n",
    "y = to_categorical(y, NUM_CLASSES)\n",
    "\n",
    "# Séparation train/test\n",
    "X_train, X_test, y_train, y_test = train_test_split(X, y, test_size=0.2, random_state=42)\n",
    "\n",
    "print(f\"✅ Chargement terminé : {len(X_train)} images pour l'entraînement, {len(X_test)} pour le test.\")"
   ]
  }
 ],
 "metadata": {
  "application/vnd.databricks.v1+notebook": {
   "computePreferences": null,
   "dashboards": [],
   "environmentMetadata": {
    "base_environment": "",
    "environment_version": "2"
   },
   "language": "python",
   "notebookMetadata": {
    "pythonIndentUnit": 4
   },
   "notebookName": "Projet ml computer vision medical",
   "widgets": {}
  },
  "language_info": {
   "name": "python"
  }
 },
 "nbformat": 4,
 "nbformat_minor": 0
}
